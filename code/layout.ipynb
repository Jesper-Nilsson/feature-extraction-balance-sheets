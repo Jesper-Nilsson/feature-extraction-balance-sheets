{
 "cells": [
  {
   "cell_type": "code",
   "execution_count": null,
   "id": "f1acbed1-8612-48a6-9904-52d3f1809ad0",
   "metadata": {
    "editable": true,
    "slideshow": {
     "slide_type": ""
    },
    "tags": []
   },
   "outputs": [],
   "source": [
    "import os\n",
    "import csv\n",
    "from paddleocr import PaddleOCR, draw_ocr\n",
    "from paddleocr import PPStructure, save_structure_res\n",
    "import preprocess_report as pre\n",
    "\n",
    "# Path to your CSV file\n",
    "csv_file_path = 'datasets/metadata for reports/training_meta_data - Blad1.csv'\n",
    "ocr = PaddleOCR(use_angle_cls=True, lang='sv', use_gpu=True)\n",
    "table_engine = PPStructure(layout=True, show_log=True, lang='en', ocr = False,use_gpu=True)  #consider layout, less found tbales but better strucutre?\n",
    "\n",
    "\n",
    "with open(csv_file_path, mode='r', encoding='utf-8') as file:\n",
    "   \n",
    "    csv_reader = csv.DictReader(file)\n",
    "\n",
    "  \n",
    "    testindex = 0\n",
    "    for row in csv_reader:\n",
    "        if testindex == 10:\n",
    "            break\n",
    "        testindex += 1\n",
    "        \n",
    "        filename = row['FileName']\n",
    "        approved = row['approved']\n",
    "        result = row['resultat']\n",
    "        balans = row['balans']\n",
    "\n",
    "        if approved == 'Y':\n",
    "            print(f'Filename: {filename}, resultat: {result}, balans: {balans}')\n",
    "\n",
    "            result_pages = [] if result == \"NA\" else result.split('/')\n",
    "            balans_pages = [] if balans == \"NA\" else balans.split('/')\n",
    "\n",
    "            images = pre.convert_report_to_image(f\"datasets/reports/{filename}\")\n",
    "            images = pre.crop_ndarrays_left_top_percentage(images)\n",
    "            save_path = os.path.join('./images', filename)\n",
    "            os.makedirs(save_path, exist_ok=True)\n",
    "            resultImages = []\n",
    "            resultImage = []\n",
    "            for i in result_pages:\n",
    "                resultImages.append(images[int(i)])\n",
    "            if resultImages:\n",
    "\n",
    "                imageIndex = 0\n",
    "                for i in resultImages:\n",
    "                    save_folder = f'./output/{filename}/'\n",
    "                \n",
    "\n",
    "                    file_path = os.path.join(save_path, f\"resultat{imageIndex}.jpg\")\n",
    "                    #cv2.imwrite(file_path, i)\n",
    "\n",
    "                    table = table_engine(i)\n",
    "                    save_structure_res(table, save_folder, \"result\")\n",
    "                    imageIndex += 1\n",
    "\n",
    "            balansImages = []\n",
    "            balansImage = []\n",
    "            for i in balans_pages:\n",
    "                balansImages.append(images[int(i)])\n",
    "\n",
    "            if balansImages:\n",
    "                imageIndex = 0\n",
    "                for i in balansImages:\n",
    "                    save_folder = f'./output/{filename}/'\n",
    "                    img = balansImage\n",
    "                    file_path = os.path.join(save_path, f\"balans{imageIndex}.jpg\")\n",
    "                    #cv2.imwrite(file_path, i)\n",
    "                    table = table_engine(i)\n",
    "                    save_structure_res(table, save_folder, \"balans\")\n",
    "                    imageIndex += 1\n",
    "\n"
   ]
  },
  {
   "cell_type": "code",
   "execution_count": null,
   "id": "3889ae1e-85b7-450d-9362-419b63804ef1",
   "metadata": {
    "editable": true,
    "slideshow": {
     "slide_type": ""
    },
    "tags": []
   },
   "outputs": [],
   "source": []
  },
  {
   "cell_type": "code",
   "execution_count": null,
   "id": "951bcdc0-2d6d-415e-9de1-6fb948485413",
   "metadata": {
    "editable": true,
    "slideshow": {
     "slide_type": ""
    },
    "tags": []
   },
   "outputs": [],
   "source": []
  },
  {
   "cell_type": "code",
   "execution_count": null,
   "id": "68a12a17-4470-4d65-9d31-300962d3f0a9",
   "metadata": {},
   "outputs": [],
   "source": []
  }
 ],
 "metadata": {
  "kernelspec": {
   "display_name": "jesper_venv",
   "language": "python",
   "name": "jesper_venv"
  },
  "language_info": {
   "codemirror_mode": {
    "name": "ipython",
    "version": 3
   },
   "file_extension": ".py",
   "mimetype": "text/x-python",
   "name": "python",
   "nbconvert_exporter": "python",
   "pygments_lexer": "ipython3",
   "version": "3.8.10"
  }
 },
 "nbformat": 4,
 "nbformat_minor": 5
}
