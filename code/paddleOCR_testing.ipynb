{
 "cells": [
  {
   "cell_type": "code",
   "execution_count": 1,
   "id": "f1acbed1-8612-48a6-9904-52d3f1809ad0",
   "metadata": {
    "editable": true,
    "slideshow": {
     "slide_type": ""
    },
    "tags": []
   },
   "outputs": [
    {
     "name": "stdout",
     "output_type": "stream",
     "text": [
      "[2024/04/16 15:40:01] ppocr DEBUG: Namespace(alpha=1.0, alphacolor=(255, 255, 255), benchmark=False, beta=1.0, binarize=False, cls_batch_num=6, cls_image_shape='3, 48, 192', cls_model_dir='/root/.paddleocr/whl/cls/ch_ppocr_mobile_v2.0_cls_infer', cls_thresh=0.9, cpu_threads=10, crop_res_save_dir='./output', det=True, det_algorithm='DB', det_box_type='quad', det_db_box_thresh=0.6, det_db_score_mode='fast', det_db_thresh=0.3, det_db_unclip_ratio=1.5, det_east_cover_thresh=0.1, det_east_nms_thresh=0.2, det_east_score_thresh=0.8, det_limit_side_len=960, det_limit_type='max', det_model_dir='/root/.paddleocr/whl/det/en/en_PP-OCRv3_det_infer', det_pse_box_thresh=0.85, det_pse_min_area=16, det_pse_scale=1, det_pse_thresh=0, det_sast_nms_thresh=0.2, det_sast_score_thresh=0.5, draw_img_save_dir='./inference_results', drop_score=0.5, e2e_algorithm='PGNet', e2e_char_dict_path='./ppocr/utils/ic15_dict.txt', e2e_limit_side_len=768, e2e_limit_type='max', e2e_model_dir=None, e2e_pgnet_mode='fast', e2e_pgnet_score_thresh=0.5, e2e_pgnet_valid_set='totaltext', enable_mkldnn=False, fourier_degree=5, gpu_id=0, gpu_mem=500, help='==SUPPRESS==', image_dir=None, image_orientation=False, invert=False, ir_optim=True, kie_algorithm='LayoutXLM', label_list=['0', '180'], lang='sv', layout=True, layout_dict_path=None, layout_model_dir=None, layout_nms_threshold=0.5, layout_score_threshold=0.5, max_batch_size=10, max_text_length=25, merge_no_span_structure=True, min_subgraph_size=15, mode='structure', ocr=True, ocr_order_method=None, ocr_version='PP-OCRv4', output='./output', page_num=0, precision='fp32', process_id=0, re_model_dir=None, rec=True, rec_algorithm='SVTR_LCNet', rec_batch_num=6, rec_char_dict_path='/root/.pyenv/versions/jesper_venv/lib/python3.8/site-packages/paddleocr/ppocr/utils/dict/latin_dict.txt', rec_image_inverse=True, rec_image_shape='3, 48, 320', rec_model_dir='/root/.paddleocr/whl/rec/latin/latin_PP-OCRv3_rec_infer', recovery=False, save_crop_res=False, save_log_path='./log_output/', scales=[8, 16, 32], ser_dict_path='../train_data/XFUND/class_list_xfun.txt', ser_model_dir=None, show_log=True, sr_batch_num=1, sr_image_shape='3, 32, 128', sr_model_dir=None, structure_version='PP-StructureV2', table=True, table_algorithm='TableAttn', table_char_dict_path=None, table_max_len=488, table_model_dir=None, total_process_num=1, type='ocr', use_angle_cls=True, use_dilation=False, use_gpu=True, use_mp=False, use_npu=False, use_onnx=False, use_pdf2docx_api=False, use_pdserving=False, use_space_char=True, use_tensorrt=False, use_visual_backbone=True, use_xpu=False, vis_font_path='./doc/fonts/simfang.ttf', warmup=False)\n",
      "[2024/04/16 15:40:04] ppocr DEBUG: Namespace(alpha=1.0, alphacolor=(255, 255, 255), benchmark=False, beta=1.0, binarize=False, cls_batch_num=6, cls_image_shape='3, 48, 192', cls_model_dir=None, cls_thresh=0.9, cpu_threads=10, crop_res_save_dir='./output', det=True, det_algorithm='DB', det_box_type='quad', det_db_box_thresh=0.6, det_db_score_mode='fast', det_db_thresh=0.3, det_db_unclip_ratio=1.5, det_east_cover_thresh=0.1, det_east_nms_thresh=0.2, det_east_score_thresh=0.8, det_limit_side_len=960, det_limit_type='max', det_model_dir='/root/.paddleocr/whl/det/en/en_PP-OCRv3_det_infer', det_pse_box_thresh=0.85, det_pse_min_area=16, det_pse_scale=1, det_pse_thresh=0, det_sast_nms_thresh=0.2, det_sast_score_thresh=0.5, draw_img_save_dir='./inference_results', drop_score=0.5, e2e_algorithm='PGNet', e2e_char_dict_path='./ppocr/utils/ic15_dict.txt', e2e_limit_side_len=768, e2e_limit_type='max', e2e_model_dir=None, e2e_pgnet_mode='fast', e2e_pgnet_score_thresh=0.5, e2e_pgnet_valid_set='totaltext', enable_mkldnn=False, fourier_degree=5, gpu_id=0, gpu_mem=500, help='==SUPPRESS==', image_dir=None, image_orientation=False, invert=False, ir_optim=True, kie_algorithm='LayoutXLM', label_list=['0', '180'], lang='en', layout=True, layout_dict_path='/root/.pyenv/versions/jesper_venv/lib/python3.8/site-packages/paddleocr/ppocr/utils/dict/layout_dict/layout_publaynet_dict.txt', layout_model_dir='/root/.paddleocr/whl/layout/picodet_lcnet_x1_0_fgd_layout_infer', layout_nms_threshold=0.5, layout_score_threshold=0.5, max_batch_size=10, max_text_length=25, merge_no_span_structure=True, min_subgraph_size=15, mode='structure', ocr=False, ocr_order_method=None, ocr_version='PP-OCRv4', output='./output', page_num=0, precision='fp32', process_id=0, re_model_dir=None, rec=True, rec_algorithm='SVTR_LCNet', rec_batch_num=6, rec_char_dict_path='/root/.pyenv/versions/jesper_venv/lib/python3.8/site-packages/paddleocr/ppocr/utils/en_dict.txt', rec_image_inverse=True, rec_image_shape='3, 48, 320', rec_model_dir='/root/.paddleocr/whl/rec/en/en_PP-OCRv4_rec_infer', recovery=False, save_crop_res=False, save_log_path='./log_output/', scales=[8, 16, 32], ser_dict_path='../train_data/XFUND/class_list_xfun.txt', ser_model_dir=None, show_log=True, sr_batch_num=1, sr_image_shape='3, 32, 128', sr_model_dir=None, structure_version='PP-StructureV2', table=True, table_algorithm='TableAttn', table_char_dict_path='/root/.pyenv/versions/jesper_venv/lib/python3.8/site-packages/paddleocr/ppocr/utils/dict/table_structure_dict.txt', table_max_len=488, table_model_dir='/root/.paddleocr/whl/table/en_ppstructure_mobile_v2.0_SLANet_infer', total_process_num=1, type='ocr', use_angle_cls=False, use_dilation=False, use_gpu=True, use_mp=False, use_npu=False, use_onnx=False, use_pdf2docx_api=False, use_pdserving=False, use_space_char=True, use_tensorrt=False, use_visual_backbone=True, use_xpu=False, vis_font_path='./doc/fonts/simfang.ttf', warmup=False)\n",
      "Filename: Å9011672-19_190301_131504_ARSREDOVISNING.pdf, resultat: 2, balans: 3/4\n"
     ]
    },
    {
     "ename": "RuntimeError",
     "evalue": "(PreconditionNotMet) Cannot load cudnn shared library. Cannot invoke method cudnnGetVersion.\n  [Hint: cudnn_dso_handle should not be null.] (at /paddle/paddle/phi/backends/dynload/cudnn.cc:64)\n",
     "output_type": "error",
     "traceback": [
      "\u001b[0;31m---------------------------------------------------------------------------\u001b[0m",
      "\u001b[0;31mRuntimeError\u001b[0m                              Traceback (most recent call last)",
      "Cell \u001b[0;32mIn[1], line 54\u001b[0m\n\u001b[1;32m     51\u001b[0m file_path \u001b[38;5;241m=\u001b[39m os\u001b[38;5;241m.\u001b[39mpath\u001b[38;5;241m.\u001b[39mjoin(save_path, \u001b[38;5;124mf\u001b[39m\u001b[38;5;124m\"\u001b[39m\u001b[38;5;124mresultat\u001b[39m\u001b[38;5;132;01m{\u001b[39;00mimageIndex\u001b[38;5;132;01m}\u001b[39;00m\u001b[38;5;124m.jpg\u001b[39m\u001b[38;5;124m\"\u001b[39m)\n\u001b[1;32m     52\u001b[0m \u001b[38;5;66;03m#cv2.imwrite(file_path, i)\u001b[39;00m\n\u001b[0;32m---> 54\u001b[0m table \u001b[38;5;241m=\u001b[39m \u001b[43mtable_engine\u001b[49m\u001b[43m(\u001b[49m\u001b[43mi\u001b[49m\u001b[43m)\u001b[49m\n\u001b[1;32m     55\u001b[0m save_structure_res(table, save_folder, \u001b[38;5;124m\"\u001b[39m\u001b[38;5;124mresult\u001b[39m\u001b[38;5;124m\"\u001b[39m)\n\u001b[1;32m     56\u001b[0m imageIndex \u001b[38;5;241m+\u001b[39m\u001b[38;5;241m=\u001b[39m \u001b[38;5;241m1\u001b[39m\n",
      "File \u001b[0;32m~/.pyenv/versions/jesper_venv/lib/python3.8/site-packages/paddleocr/paddleocr.py:759\u001b[0m, in \u001b[0;36mPPStructure.__call__\u001b[0;34m(self, img, return_ocr_result_in_table, img_idx)\u001b[0m\n\u001b[1;32m    757\u001b[0m \u001b[38;5;28;01mdef\u001b[39;00m \u001b[38;5;21m__call__\u001b[39m(\u001b[38;5;28mself\u001b[39m, img, return_ocr_result_in_table\u001b[38;5;241m=\u001b[39m\u001b[38;5;28;01mFalse\u001b[39;00m, img_idx\u001b[38;5;241m=\u001b[39m\u001b[38;5;241m0\u001b[39m):\n\u001b[1;32m    758\u001b[0m     img \u001b[38;5;241m=\u001b[39m check_img(img)\n\u001b[0;32m--> 759\u001b[0m     res, _ \u001b[38;5;241m=\u001b[39m \u001b[38;5;28;43msuper\u001b[39;49m\u001b[43m(\u001b[49m\u001b[43m)\u001b[49m\u001b[38;5;241;43m.\u001b[39;49m\u001b[38;5;21;43m__call__\u001b[39;49m\u001b[43m(\u001b[49m\n\u001b[1;32m    760\u001b[0m \u001b[43m        \u001b[49m\u001b[43mimg\u001b[49m\u001b[43m,\u001b[49m\u001b[43m \u001b[49m\u001b[43mreturn_ocr_result_in_table\u001b[49m\u001b[43m,\u001b[49m\u001b[43m \u001b[49m\u001b[43mimg_idx\u001b[49m\u001b[38;5;241;43m=\u001b[39;49m\u001b[43mimg_idx\u001b[49m\u001b[43m)\u001b[49m\n\u001b[1;32m    761\u001b[0m     \u001b[38;5;28;01mreturn\u001b[39;00m res\n",
      "File \u001b[0;32m~/.pyenv/versions/jesper_venv/lib/python3.8/site-packages/paddleocr/ppstructure/predict_system.py:112\u001b[0m, in \u001b[0;36mStructureSystem.__call__\u001b[0;34m(self, img, return_ocr_result_in_table, img_idx)\u001b[0m\n\u001b[1;32m    110\u001b[0m ori_im \u001b[38;5;241m=\u001b[39m img\u001b[38;5;241m.\u001b[39mcopy()\n\u001b[1;32m    111\u001b[0m \u001b[38;5;28;01mif\u001b[39;00m \u001b[38;5;28mself\u001b[39m\u001b[38;5;241m.\u001b[39mlayout_predictor \u001b[38;5;129;01mis\u001b[39;00m \u001b[38;5;129;01mnot\u001b[39;00m \u001b[38;5;28;01mNone\u001b[39;00m:\n\u001b[0;32m--> 112\u001b[0m     layout_res, elapse \u001b[38;5;241m=\u001b[39m \u001b[38;5;28;43mself\u001b[39;49m\u001b[38;5;241;43m.\u001b[39;49m\u001b[43mlayout_predictor\u001b[49m\u001b[43m(\u001b[49m\u001b[43mimg\u001b[49m\u001b[43m)\u001b[49m\n\u001b[1;32m    113\u001b[0m     time_dict[\u001b[38;5;124m'\u001b[39m\u001b[38;5;124mlayout\u001b[39m\u001b[38;5;124m'\u001b[39m] \u001b[38;5;241m+\u001b[39m\u001b[38;5;241m=\u001b[39m elapse\n\u001b[1;32m    114\u001b[0m \u001b[38;5;28;01melse\u001b[39;00m:\n",
      "File \u001b[0;32m~/.pyenv/versions/jesper_venv/lib/python3.8/site-packages/paddleocr/ppstructure/layout/predict_layout.py:85\u001b[0m, in \u001b[0;36mLayoutPredictor.__call__\u001b[0;34m(self, img)\u001b[0m\n\u001b[1;32m     82\u001b[0m preds, elapse \u001b[38;5;241m=\u001b[39m \u001b[38;5;241m0\u001b[39m, \u001b[38;5;241m1\u001b[39m\n\u001b[1;32m     83\u001b[0m starttime \u001b[38;5;241m=\u001b[39m time\u001b[38;5;241m.\u001b[39mtime()\n\u001b[0;32m---> 85\u001b[0m \u001b[38;5;28;43mself\u001b[39;49m\u001b[38;5;241;43m.\u001b[39;49m\u001b[43minput_tensor\u001b[49m\u001b[38;5;241;43m.\u001b[39;49m\u001b[43mcopy_from_cpu\u001b[49m\u001b[43m(\u001b[49m\u001b[43mimg\u001b[49m\u001b[43m)\u001b[49m\n\u001b[1;32m     86\u001b[0m \u001b[38;5;28mself\u001b[39m\u001b[38;5;241m.\u001b[39mpredictor\u001b[38;5;241m.\u001b[39mrun()\n\u001b[1;32m     88\u001b[0m np_score_list, np_boxes_list \u001b[38;5;241m=\u001b[39m [], []\n",
      "File \u001b[0;32m~/.pyenv/versions/jesper_venv/lib/python3.8/site-packages/paddle/inference/wrapper.py:52\u001b[0m, in \u001b[0;36mtensor_copy_from_cpu\u001b[0;34m(self, data)\u001b[0m\n\u001b[1;32m     46\u001b[0m \u001b[38;5;250m\u001b[39m\u001b[38;5;124;03m'''\u001b[39;00m\n\u001b[1;32m     47\u001b[0m \u001b[38;5;124;03mSupport input type check based on tensor.copy_from_cpu.\u001b[39;00m\n\u001b[1;32m     48\u001b[0m \u001b[38;5;124;03m'''\u001b[39;00m\n\u001b[1;32m     49\u001b[0m \u001b[38;5;28;01mif\u001b[39;00m \u001b[38;5;28misinstance\u001b[39m(data, np\u001b[38;5;241m.\u001b[39mndarray) \u001b[38;5;129;01mor\u001b[39;00m (\n\u001b[1;32m     50\u001b[0m     \u001b[38;5;28misinstance\u001b[39m(data, \u001b[38;5;28mlist\u001b[39m) \u001b[38;5;129;01mand\u001b[39;00m \u001b[38;5;28mlen\u001b[39m(data) \u001b[38;5;241m>\u001b[39m \u001b[38;5;241m0\u001b[39m \u001b[38;5;129;01mand\u001b[39;00m \u001b[38;5;28misinstance\u001b[39m(data[\u001b[38;5;241m0\u001b[39m], \u001b[38;5;28mstr\u001b[39m)\n\u001b[1;32m     51\u001b[0m ):\n\u001b[0;32m---> 52\u001b[0m     \u001b[38;5;28;43mself\u001b[39;49m\u001b[38;5;241;43m.\u001b[39;49m\u001b[43m_copy_from_cpu_bind\u001b[49m\u001b[43m(\u001b[49m\u001b[43mdata\u001b[49m\u001b[43m)\u001b[49m\n\u001b[1;32m     53\u001b[0m \u001b[38;5;28;01melse\u001b[39;00m:\n\u001b[1;32m     54\u001b[0m     \u001b[38;5;28;01mraise\u001b[39;00m \u001b[38;5;167;01mTypeError\u001b[39;00m(\n\u001b[1;32m     55\u001b[0m         \u001b[38;5;124m\"\u001b[39m\u001b[38;5;124mIn copy_from_cpu, we only support numpy ndarray and list[str] data type.\u001b[39m\u001b[38;5;124m\"\u001b[39m\n\u001b[1;32m     56\u001b[0m     )\n",
      "\u001b[0;31mRuntimeError\u001b[0m: (PreconditionNotMet) Cannot load cudnn shared library. Cannot invoke method cudnnGetVersion.\n  [Hint: cudnn_dso_handle should not be null.] (at /paddle/paddle/phi/backends/dynload/cudnn.cc:64)\n"
     ]
    }
   ],
   "source": [
    "import os\n",
    "import csv\n",
    "from paddleocr import PaddleOCR, draw_ocr\n",
    "from paddleocr import PPStructure, save_structure_res\n",
    "import preprocess_report as pre\n",
    "\n",
    "# Path to your CSV file\n",
    "csv_file_path = 'datasets/metadata for reports/training_meta_data - Blad1.csv'\n",
    "ocr = PaddleOCR(use_angle_cls=True, lang='sv', use_gpu=True)\n",
    "table_engine = PPStructure(layout=True, show_log=True, lang='en', ocr = False,use_gpu=True)  #consider layout, less found tbales but better strucutre?\n",
    "\n",
    "# Open the CSV file\n",
    "with open(csv_file_path, mode='r', encoding='utf-8') as file:\n",
    "    # Create a CSV reader\n",
    "    csv_reader = csv.DictReader(file)\n",
    "\n",
    "    # Iterate over each row in the CSV\n",
    "    testindex = 0\n",
    "    for row in csv_reader:\n",
    "        if testindex == 10:\n",
    "            break\n",
    "        testindex += 1\n",
    "        # Extract the data you're interested in\n",
    "        filename = row['FileName']\n",
    "        approved = row['approved']\n",
    "        result = row['resultat']\n",
    "        balans = row['balans']\n",
    "\n",
    "        if approved == 'Y':\n",
    "            print(f'Filename: {filename}, resultat: {result}, balans: {balans}')\n",
    "\n",
    "            result_pages = [] if result == \"NA\" else result.split('/')\n",
    "            balans_pages = [] if balans == \"NA\" else balans.split('/')\n",
    "\n",
    "            images = pre.convert_report_to_image(f\"datasets/reports/{filename}\")\n",
    "            images = pre.crop_ndarrays_left_top_percentage(images)\n",
    "            save_path = os.path.join('./images', filename)\n",
    "            os.makedirs(save_path, exist_ok=True)\n",
    "            resultImages = []\n",
    "            resultImage = []\n",
    "            for i in result_pages:\n",
    "                resultImages.append(images[int(i)])\n",
    "            if resultImages:\n",
    "\n",
    "                imageIndex = 0\n",
    "                for i in resultImages:\n",
    "                    save_folder = f'./output/{filename}/'\n",
    "                \n",
    "\n",
    "                    file_path = os.path.join(save_path, f\"resultat{imageIndex}.jpg\")\n",
    "                    #cv2.imwrite(file_path, i)\n",
    "\n",
    "                    table = table_engine(i)\n",
    "                    save_structure_res(table, save_folder, \"result\")\n",
    "                    imageIndex += 1\n",
    "\n",
    "            balansImages = []\n",
    "            balansImage = []\n",
    "            for i in balans_pages:\n",
    "                balansImages.append(images[int(i)])\n",
    "\n",
    "            if balansImages:\n",
    "                imageIndex = 0\n",
    "                for i in balansImages:\n",
    "                    save_folder = f'./output/{filename}/'\n",
    "                    img = balansImage\n",
    "                    file_path = os.path.join(save_path, f\"balans{imageIndex}.jpg\")\n",
    "                    #cv2.imwrite(file_path, i)\n",
    "                    table = table_engine(i)\n",
    "                    save_structure_res(table, save_folder, \"balans\")\n",
    "                    imageIndex += 1\n",
    "\n"
   ]
  },
  {
   "cell_type": "code",
   "execution_count": null,
   "id": "3889ae1e-85b7-450d-9362-419b63804ef1",
   "metadata": {
    "editable": true,
    "slideshow": {
     "slide_type": ""
    },
    "tags": []
   },
   "outputs": [],
   "source": []
  },
  {
   "cell_type": "code",
   "execution_count": null,
   "id": "951bcdc0-2d6d-415e-9de1-6fb948485413",
   "metadata": {
    "editable": true,
    "slideshow": {
     "slide_type": ""
    },
    "tags": []
   },
   "outputs": [],
   "source": []
  },
  {
   "cell_type": "code",
   "execution_count": null,
   "id": "68a12a17-4470-4d65-9d31-300962d3f0a9",
   "metadata": {},
   "outputs": [],
   "source": []
  }
 ],
 "metadata": {
  "kernelspec": {
   "display_name": "jesper_venv",
   "language": "python",
   "name": "jesper_venv"
  },
  "language_info": {
   "codemirror_mode": {
    "name": "ipython",
    "version": 3
   },
   "file_extension": ".py",
   "mimetype": "text/x-python",
   "name": "python",
   "nbconvert_exporter": "python",
   "pygments_lexer": "ipython3",
   "version": "3.8.10"
  }
 },
 "nbformat": 4,
 "nbformat_minor": 5
}
